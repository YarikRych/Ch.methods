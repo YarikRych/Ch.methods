{
 "cells": [
  {
   "cell_type": "code",
   "execution_count": 2,
   "id": "ac4e8ebc-a851-4e6a-8e51-cbbe38f73cbd",
   "metadata": {},
   "outputs": [
    {
     "name": "stdout",
     "output_type": "stream",
     "text": [
      "Точность 10^-3:\n",
      "Односторонняя разность: f'(2.3) ≈ 2.325731128827897, h = 0.00078125\n",
      "Центральная разность: f'(2.3) ≈ 2.3266338062224445, h = 0.025\n",
      "\n",
      "Точность 10^-6:\n",
      "Односторонняя разность: f'(2.3) ≈ 2.326483578654006, h = 7.62939453125e-07\n",
      "Центральная разность: f'(2.3) ≈ 2.3264844605253643, h = 0.00078125\n"
     ]
    }
   ],
   "source": [
    "import math\n",
    "\n",
    "def f(x):\n",
    "    return math.cosh(math.pi*x/4)\n",
    "\n",
    "def forward_diff(f,x,h):\n",
    "    return (f(x) - f(x-h))/h\n",
    "\n",
    "def central_diff(f,x,h):\n",
    "    return (f(x+h) - f(x-h))/(2*h)\n",
    "\n",
    "x = 2.3\n",
    "h = 0.1\n",
    "\n",
    "print('Точность 10^-3:')\n",
    "prev_forward = forward_diff(f,x,h)\n",
    "prev_central = central_diff(f,x,h)\n",
    "while True:\n",
    "    h /= 2\n",
    "    curr_forward = forward_diff(f,x,h)\n",
    "    curr_central = central_diff(f,x,h)\n",
    "    if abs(curr_forward - prev_forward) < 1e-3:\n",
    "        print(f\"Односторонняя разность: f'({x}) ≈ {curr_forward}, h = {h}\")\n",
    "        break\n",
    "    prev_forward = curr_forward\n",
    "\n",
    "h = 0.1\n",
    "while True:\n",
    "    h /= 2\n",
    "    curr_central = central_diff(f,x,h)\n",
    "    if abs(curr_central - prev_central) < 1e-3:\n",
    "        print(f\"Центральная разность: f'({x}) ≈ {curr_central}, h = {h}\")\n",
    "        break\n",
    "    prev_central = curr_central\n",
    "\n",
    "# Точность 1e-6\n",
    "print('\\nТочность 10^-6:')\n",
    "h = 0.1\n",
    "prev_forward = forward_diff(f,x,h)\n",
    "while True:\n",
    "    h /= 2\n",
    "    curr_forward = forward_diff(f, x, h)\n",
    "    if abs(curr_forward - prev_forward) < 1e-6:\n",
    "        print(f\"Односторонняя разность: f'({x}) ≈ {curr_forward}, h = {h}\")\n",
    "        break\n",
    "    prev_forward = curr_forward\n",
    "\n",
    "h = 0.1\n",
    "prev_central = central_diff(f,x,h)\n",
    "while True:\n",
    "    h /= 2\n",
    "    curr_central = central_diff(f,x,h)\n",
    "    if abs(curr_central - prev_central) < 1e-6:\n",
    "        print(f\"Центральная разность: f'({x}) ≈ {curr_central}, h = {h}\")\n",
    "        break\n",
    "    prev_central = curr_central"
   ]
  },
  {
   "cell_type": "markdown",
   "id": "35951633-5e28-4ad9-8804-d7268c56ef96",
   "metadata": {},
   "source": [
    "### Центральная разностная производная сходится быстрее (требует большего h для той же точности), чем односторонняя разность."
   ]
  }
 ],
 "metadata": {
  "kernelspec": {
   "display_name": "Python 3 (ipykernel)",
   "language": "python",
   "name": "python3"
  },
  "language_info": {
   "codemirror_mode": {
    "name": "ipython",
    "version": 3
   },
   "file_extension": ".py",
   "mimetype": "text/x-python",
   "name": "python",
   "nbconvert_exporter": "python",
   "pygments_lexer": "ipython3",
   "version": "3.13.2"
  }
 },
 "nbformat": 4,
 "nbformat_minor": 5
}
