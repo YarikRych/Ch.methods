{
  "cells": [
    {
      "cell_type": "code",
      "execution_count": null,
      "id": "0343bc80-8d28-4d90-baeb-e01ee0321590",
      "metadata": {
        "colab": {
          "base_uri": "https://localhost:8080/"
        },
        "id": "0343bc80-8d28-4d90-baeb-e01ee0321590",
        "outputId": "0ebde9da-e524-4958-8b5c-d4f8d6c8a981"
      },
      "outputs": [
        {
          "output_type": "stream",
          "name": "stdout",
          "text": [
            "Точка ξ = 2.3:\n",
            "Точная производная f'(2.3) = 2.32648431\n",
            "Численная производная (ε=1e-3) = 2.32969678, ошибка = 3.21e-03\n",
            "Численная производная (ε=1e-6) = 2.32651643, ошибка = 3.21e-05\n",
            "\n"
          ]
        }
      ],
      "source": [
        "import numpy as np\n",
        "\n",
        "epsilon1 = 1e-3\n",
        "epsilon2 = 1e-6\n",
        "x = 2.3\n",
        "\n",
        "def f(t):\n",
        "    return np.cosh(np.pi * t / 4)\n",
        "\n",
        "def exact_derivative(t):\n",
        "    return (np.pi / 4) * np.sinh(np.pi * t / 4)\n",
        "\n",
        "def derivative(x, epsilon):\n",
        "    #оптимальный шаг h (учитывает вторую производную)\n",
        "    second_derivative = (np.pi / 4)**2 * np.cosh(np.pi * x / 4)\n",
        "    h = (3 * epsilon / abs(second_derivative))**(1/3)\n",
        "    return (f(x + h) - f(x - h)) / (2 * h)\n",
        "\n",
        "exact = exact_derivative(x)\n",
        "approx1 = derivative(x, epsilon1)\n",
        "approx2 = derivative(x, epsilon2)\n",
        "print(f\"Точка ξ = {x}:\")\n",
        "print(f\"Точная производная f'({x}) = {exact:.8f}\")\n",
        "print(f\"Численная производная (ε=1e-3) = {approx1:.8f}, ошибка = {abs(approx1 - exact):.2e}\")\n",
        "print(f\"Численная производная (ε=1e-6) = {approx2:.8f}, ошибка = {abs(approx2 - exact):.2e}\")\n",
        "print()"
      ]
    }
  ],
  "metadata": {
    "kernelspec": {
      "display_name": "Python 3 (ipykernel)",
      "language": "python",
      "name": "python3"
    },
    "language_info": {
      "codemirror_mode": {
        "name": "ipython",
        "version": 3
      },
      "file_extension": ".py",
      "mimetype": "text/x-python",
      "name": "python",
      "nbconvert_exporter": "python",
      "pygments_lexer": "ipython3",
      "version": "3.13.2"
    },
    "colab": {
      "provenance": []
    }
  },
  "nbformat": 4,
  "nbformat_minor": 5
}