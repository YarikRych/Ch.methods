{
  "nbformat": 4,
  "nbformat_minor": 0,
  "metadata": {
    "colab": {
      "provenance": []
    },
    "kernelspec": {
      "name": "python3",
      "display_name": "Python 3"
    },
    "language_info": {
      "name": "python"
    }
  },
  "cells": [
    {
      "cell_type": "code",
      "execution_count": null,
      "metadata": {
        "colab": {
          "base_uri": "https://localhost:8080/"
        },
        "id": "ZF4tfUCSOo0R",
        "outputId": "1ec5716b-1407-4c26-f556-e3c175f6f6c0"
      },
      "outputs": [
        {
          "output_type": "stream",
          "name": "stdout",
          "text": [
            "A\n",
            "[[0.69714525 0.3766902  0.70473528]\n",
            " [0.68774759 0.65636117 0.17320243]\n",
            " [0.81429611 0.22545588 0.90842217]]\n",
            "f\n",
            "[[0.8244797 ]\n",
            " [0.73219964]\n",
            " [0.42024697]]\n",
            "X\n",
            "[[-2.58727144]\n",
            " [ 3.30918915]\n",
            " [ 1.96051567]]\n",
            "X\n",
            "[[-2.58727144]\n",
            " [ 3.30918915]\n",
            " [ 1.96051567]]\n"
          ]
        }
      ],
      "source": [
        "import numpy as np\n",
        "\n",
        "# AX = f => X = A^(-1) * f\n",
        "n = 3\n",
        "A = np.random.rand(n, n)\n",
        "f = np.random.rand(n, 1)\n",
        "print('A')\n",
        "print(A)\n",
        "print('f')\n",
        "print(f)\n",
        "\n",
        "if (np.linalg.det(A) == 0):\n",
        "    print(\"Матрица A вырожденная => обратной матрицы не существует!\")\n",
        "else:\n",
        "    B = np.linalg.inv(A)\n",
        "    X = B @ f\n",
        "    print('X')\n",
        "    print(X)\n",
        "\n",
        "if (np.linalg.det(A) == 0):\n",
        "    print(\"Матрица A вырожденная => обратной матрицы не существует!\")\n",
        "else:\n",
        "    X = np.zeros(n)\n",
        "    det_A = np.linalg.det(A)\n",
        "    for i in range(n):\n",
        "        Ai = A.copy()\n",
        "        Ai[:, i] = f.flatten()\n",
        "        det_Ai = np.linalg.det(Ai)\n",
        "        X[i] = det_Ai / det_A\n",
        "    print('X')\n",
        "    print(X.reshape(n, 1))"
      ]
    },
    {
      "cell_type": "code",
      "source": [
        "def gauss_method(A, f):\n",
        "    n = len(f)\n",
        "    B = np.hstack((A, f))\n",
        "    # Прямой ход метода Гаусса\n",
        "    for column in range(n):\n",
        "        # Нормализация текущей строки\n",
        "        B[column] = B[column] / B[column, column]\n",
        "        # Исключение переменной из других строк\n",
        "        for row in range(column + 1, n):\n",
        "            factor = B[row, column]\n",
        "            B[row] -= factor * B[column]\n",
        "\n",
        "    # Обратный ход метода Гаусса\n",
        "    X = np.zeros(n)\n",
        "    for row in reversed(range(n)):\n",
        "        X[row] = B[row, -1] - np.dot(B[row, row+1:n], X[row+1:])\n",
        "\n",
        "    return X"
      ],
      "metadata": {
        "id": "NnSkqxE_9KX_"
      },
      "execution_count": null,
      "outputs": []
    },
    {
      "cell_type": "code",
      "source": [
        "n = 3\n",
        "A = np.random.rand(n, n)\n",
        "f = np.random.rand(n, 1)\n",
        "\n",
        "def gauss_method_modified(A, f):\n",
        "    n = len(f)\n",
        "    B = np.hstack((A, f))\n",
        "    # Прямой ход метода Гаусса\n",
        "    for column in range(n):\n",
        "        # Выбор главного элемента (поиск максимального в текущем столбце)\n",
        "        max_row = np.argmax(np.abs(B[column:, column])) + column\n",
        "        # Перестановка строк, если нужно\n",
        "        if max_row != column:\n",
        "            B[[column, max_row]] = B[[max_row, column]]\n",
        "        # Нормализация текущей строки\n",
        "        B[column] = B[column] / B[column, column]\n",
        "        # Исключение переменной из других строк\n",
        "        for row in range(column + 1, n):\n",
        "            factor = B[row, column]\n",
        "            B[row] -= factor * B[column]\n",
        "\n",
        "    # Обратный ход метода Гаусса\n",
        "    X = np.zeros(n)\n",
        "    for row in reversed(range(n)):\n",
        "        X[row] = B[row, -1] - np.dot(B[row, row+1:n], X[row+1:])\n",
        "\n",
        "    return X\n",
        "\n",
        "print(\"Матрица A:\")\n",
        "print(A)\n",
        "print(\"\\nВектор f:\")\n",
        "print(f)\n",
        "print(\"\\nВектор X:\")\n",
        "print(gauss_method(A, f).reshape(n, 1))\n",
        "print(\"\\nПроверка\")\n",
        "print(np.linalg.solve(A, f))"
      ],
      "metadata": {
        "colab": {
          "base_uri": "https://localhost:8080/"
        },
        "id": "VqcA7NPw8pfp",
        "outputId": "898d180e-43a8-47fb-8e0e-3d90e86cdea0"
      },
      "execution_count": null,
      "outputs": [
        {
          "output_type": "stream",
          "name": "stdout",
          "text": [
            "Матрица A:\n",
            "[[0.90508283 0.59860007 0.27631784]\n",
            " [0.66108702 0.1520286  0.88298485]\n",
            " [0.92556834 0.11123318 0.52838312]]\n",
            "\n",
            "Вектор f:\n",
            "[[0.21786403]\n",
            " [0.51156111]\n",
            " [0.03148817]]\n",
            "\n",
            "Вектор X:\n",
            "[[-0.54879384]\n",
            " [ 0.80023361]\n",
            " [ 0.85245314]]\n",
            "\n",
            "Проверка\n",
            "[[-0.54879384]\n",
            " [ 0.80023361]\n",
            " [ 0.85245314]]\n"
          ]
        }
      ]
    },
    {
      "cell_type": "code",
      "source": [
        "n = 3\n",
        "A = np.random.rand(n, n)\n",
        "X = np.random.rand(n, 1)\n",
        "f = A @ X\n",
        "\n",
        "print(f\"cond(A) = {np.linalg.cond(A)}\")\n",
        "\n",
        "print(\"\\nМатрица A:\")\n",
        "print(A)\n",
        "print(\"\\nВектор f:\")\n",
        "print(f)\n",
        "print(\"\\nВектор X:\")\n",
        "print(X)\n",
        "\n",
        "if (np.linalg.det(A) == 0):\n",
        "    print(\"Матрица A вырожденная => обратной матрицы не существует!\")\n",
        "else:\n",
        "    B = np.linalg.inv(A)\n",
        "    X = B @ f\n",
        "    print('X')\n",
        "    print(X)\n",
        "\n",
        "if (np.linalg.det(A) == 0):\n",
        "    print(\"Матрица A вырожденная => обратной матрицы не существует!\")\n",
        "else:\n",
        "    X = np.zeros(n)\n",
        "    det_A = np.linalg.det(A)\n",
        "    for i in range(n):\n",
        "        Ai = A.copy()\n",
        "        Ai[:, i] = f.flatten()\n",
        "        det_Ai = np.linalg.det(Ai)\n",
        "        X[i] = det_Ai / det_A\n",
        "    print('X')\n",
        "    print(X.reshape(n, 1))\n"
      ],
      "metadata": {
        "colab": {
          "base_uri": "https://localhost:8080/"
        },
        "id": "YHMtf9WG80mg",
        "outputId": "558cde43-f305-4eb8-897f-a5e2a36acaf3"
      },
      "execution_count": null,
      "outputs": [
        {
          "output_type": "stream",
          "name": "stdout",
          "text": [
            "cond(A) = 21.21802439825698\n",
            "\n",
            "Матрица A:\n",
            "[[0.22434194 0.46623861 0.72586256]\n",
            " [0.60690161 0.29193504 0.7862606 ]\n",
            " [0.13935381 0.18099274 0.44578416]]\n",
            "\n",
            "Вектор f:\n",
            "[[0.59166507]\n",
            " [0.61919681]\n",
            " [0.31795399]]\n",
            "\n",
            "Вектор X:\n",
            "[[0.19452353]\n",
            " [0.43400347]\n",
            " [0.47622804]]\n",
            "X\n",
            "[[0.19452353]\n",
            " [0.43400347]\n",
            " [0.47622804]]\n",
            "X\n",
            "[[0.19452353]\n",
            " [0.43400347]\n",
            " [0.47622804]]\n"
          ]
        }
      ]
    },
    {
      "cell_type": "code",
      "source": [
        "n = 3\n",
        "A = np.random.rand(n, n)\n",
        "f = np.random.rand(n, 1)\n",
        "print(\"Матрица A:\")\n",
        "print(A)\n",
        "print(\"\\nВектор f:\")\n",
        "print(f)\n",
        "print(\"\\nВектор X:\")\n",
        "print(gauss_method(A, f).reshape(n, 1))\n",
        "print(\"\\nПроверка\")\n",
        "print(np.linalg.solve(A, f))\n",
        "\n",
        "print(np.linalg.norm(gauss_method(A, f).reshape(n, 1) - np.linalg.solve(A, f)))"
      ],
      "metadata": {
        "colab": {
          "base_uri": "https://localhost:8080/"
        },
        "id": "hcjSUZFz9MkJ",
        "outputId": "2e238d94-c742-48ef-c0fa-2841c4a98a68"
      },
      "execution_count": null,
      "outputs": [
        {
          "output_type": "stream",
          "name": "stdout",
          "text": [
            "Матрица A:\n",
            "[[0.92302395 0.10374728 0.37660562]\n",
            " [0.04275805 0.93281241 0.19157717]\n",
            " [0.98529752 0.25532529 0.36079849]]\n",
            "\n",
            "Вектор f:\n",
            "[[0.78453648]\n",
            " [0.82939231]\n",
            " [0.33475987]]\n",
            "\n",
            "Вектор X:\n",
            "[[-2.7915773 ]\n",
            " [-0.86483176]\n",
            " [ 9.16330753]]\n",
            "\n",
            "Проверка\n",
            "[[-2.7915773 ]\n",
            " [-0.86483176]\n",
            " [ 9.16330753]]\n",
            "9.305364597889226e-15\n"
          ]
        }
      ]
    },
    {
      "cell_type": "code",
      "source": [
        "n = 3\n",
        "A = np.random.rand(n, n)\n",
        "X1 = np.random.rand(n, 1)\n",
        "f = A @ X1\n",
        "\n",
        "print(f\"cond(A) = {np.linalg.cond(A)}\")\n",
        "\n",
        "print(\"\\nМатрица A:\")\n",
        "print(A)\n",
        "print(\"\\nВектор f:\")\n",
        "print(f)\n",
        "print(\"\\nВектор X:\")\n",
        "print(X1.reshape(n, 1))\n",
        "\n",
        "if (np.linalg.det(A) == 0):\n",
        "    print(\"Матрица A вырожденная => обратной матрицы не существует!\")\n",
        "else:\n",
        "    B = np.linalg.inv(A)\n",
        "    X = B @ f\n",
        "    print(\"Метод обратной матрицы: \", end='')\n",
        "    print(np.linalg.norm(X1.reshape(n, 1) - X.reshape(n, 1)))\n",
        "\n",
        "if (np.linalg.det(A) == 0):\n",
        "    print(\"Матрица A вырожденная => обратной матрицы не существует!\")\n",
        "else:\n",
        "    X = np.zeros(n)\n",
        "    det_A = np.linalg.det(A)\n",
        "    for i in range(n):\n",
        "        Ai = A.copy()\n",
        "        Ai[:, i] = f.flatten()\n",
        "        det_Ai = np.linalg.det(Ai)\n",
        "        X[i] = det_Ai / det_A\n",
        "    print(X.reshape(n, 1))\n",
        "    print(\"Метод Крамера: \", end='')\n",
        "    print(np.linalg.norm(X1.reshape(n, 1) - X.reshape(n, 1)))\n",
        "\n",
        "print(\"Обычный метод Гаусса: \", end='')\n",
        "print(np.linalg.norm(X1.reshape(n, 1) - gauss_method(A, f).reshape(n, 1)))\n",
        "\n",
        "print(\"Метод Гаусса с выбором главного элемента: \", end='')\n",
        "print(np.linalg.norm(X1.reshape(n, 1) - gauss_method_modified(A, f).reshape(n, 1)))"
      ],
      "metadata": {
        "colab": {
          "base_uri": "https://localhost:8080/"
        },
        "id": "jyXths9S9VIW",
        "outputId": "3beae7a2-6b3e-45d9-cf0b-bfdd95584b43"
      },
      "execution_count": null,
      "outputs": [
        {
          "output_type": "stream",
          "name": "stdout",
          "text": [
            "cond(A) = 8.458478050606923\n",
            "\n",
            "Матрица A:\n",
            "[[0.36136492 0.5795717  0.26758751]\n",
            " [0.93512893 0.77242841 0.44777638]\n",
            " [0.27578756 0.26720739 0.71599028]]\n",
            "\n",
            "Вектор f:\n",
            "[[0.96679462]\n",
            " [1.76538467]\n",
            " [0.82278299]]\n",
            "\n",
            "Вектор X:\n",
            "[[0.95916442]\n",
            " [0.85791411]\n",
            " [0.45952632]]\n",
            "Метод обратной матрицы: 1.1157603309187458e-15\n",
            "[[0.95916442]\n",
            " [0.85791411]\n",
            " [0.45952632]]\n",
            "Метод Крамера: 4.335559509131367e-16\n",
            "Обычный метод Гаусса: 6.304854800243424e-16\n",
            "Метод Гаусса с выбором главного элемента: 6.304854800243424e-16\n"
          ]
        }
      ]
    },
    {
      "cell_type": "code",
      "source": [],
      "metadata": {
        "id": "qE53D0kN9bRh"
      },
      "execution_count": null,
      "outputs": []
    }
  ]
}