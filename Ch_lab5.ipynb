{
  "cells": [
    {
      "cell_type": "code",
      "execution_count": null,
      "id": "7b5aa5b8-a78f-4bcd-acc7-cc358d71ba18",
      "metadata": {
        "id": "7b5aa5b8-a78f-4bcd-acc7-cc358d71ba18",
        "outputId": "8c4b82d3-2940-4ec6-b527-c0e31ed6b674"
      },
      "outputs": [
        {
          "name": "stdout",
          "output_type": "stream",
          "text": [
            "Функция F(x) = x^3:\n",
            "Метод трапеций: 0.2500002500, Погрешность: 2.50e-07\n",
            "Метод Симпсона: 0.2500000000, Погрешность: 0.00e+00\n",
            "\n",
            "Функция F1(x) = x^2:\n",
            "Метод трапеций: 0.3333335000, Погрешность: 1.67e-07\n",
            "Метод Симпсона: 0.3333333333, Погрешность: 0.00e+00\n",
            "\n",
            "Функция F2(x) = x/2:\n",
            "Метод трапеций: 0.2500000000, Погрешность: 0.00e+00\n",
            "Метод Симпсона: 0.2500000000, Погрешность: 0.00e+00\n"
          ]
        }
      ],
      "source": [
        "import numpy as np\n",
        "import matplotlib.pyplot as plt\n",
        "\n",
        "def F(x):\n",
        "    return x**3\n",
        "\n",
        "def F1(x):\n",
        "    return x**2\n",
        "\n",
        "def F2(x):\n",
        "    return x/2\n",
        "\n",
        "def trapezoid(F, a, b, n):\n",
        "    h = (b - a) / n\n",
        "    xi = np.linspace(a, b, n + 1)\n",
        "    f_val = F(xi)\n",
        "    integr = h * (np.sum(f_val) - 0.5 * (f_val[0] + f_val[-1]))\n",
        "    return integr\n",
        "\n",
        "def Simpson(F, a, b, n):\n",
        "    if n % 2 != 0:\n",
        "        n += 1  #убедимся, что n чётное\n",
        "    h = (b - a) / n\n",
        "    xi = np.linspace(a, b, n + 1)\n",
        "    f_val = F(xi)\n",
        "    integr = h/3 * (f_val[0] + 4 * np.sum(f_val[1:-1:2]) + 2 * np.sum(f_val[2:-1:2]) + f_val[-1])\n",
        "    return integr\n",
        "\n",
        "a, b = 0, 1\n",
        "n = 1000\n",
        "\n",
        "#теоретические значения интегралов\n",
        "exact_F = 0.25\n",
        "exact_F1 = 1/3\n",
        "exact_F2 = 0.25\n",
        "\n",
        "print(\"Функция F(x) = x^3:\")\n",
        "print(f\"Метод трапеций: {trapezoid(F, a, b, n):.10f}, Погрешность: {abs(exact_F - trapezoid(F, a, b, n)):.2e}\")\n",
        "print(f\"Метод Симпсона: {Simpson(F, a, b, n):.10f}, Погрешность: {abs(exact_F - Simpson(F, a, b, n)):.2e}\")\n",
        "\n",
        "print(\"\\nФункция F1(x) = x^2:\")\n",
        "print(f\"Метод трапеций: {trapezoid(F1, a, b, n):.10f}, Погрешность: {abs(exact_F1 - trapezoid(F1, a, b, n)):.2e}\")\n",
        "print(f\"Метод Симпсона: {Simpson(F1, a, b, n):.10f}, Погрешность: {abs(exact_F1 - Simpson(F1, a, b, n)):.2e}\")\n",
        "\n",
        "print(\"\\nФункция F2(x) = x/2:\")\n",
        "print(f\"Метод трапеций: {trapezoid(F2, a, b, n):.10f}, Погрешность: {abs(exact_F2 - trapezoid(F2, a, b, n)):.2e}\")\n",
        "print(f\"Метод Симпсона: {Simpson(F2, a, b, n):.10f}, Погрешность: {abs(exact_F2 - Simpson(F2, a, b, n)):.2e}\")"
      ]
    },
    {
      "cell_type": "code",
      "execution_count": null,
      "id": "60e7448b-94fb-4c9c-be65-d2bfa7971c08",
      "metadata": {
        "id": "60e7448b-94fb-4c9c-be65-d2bfa7971c08",
        "outputId": "764399ab-0a2f-4266-e0f9-8e82e6985703"
      },
      "outputs": [
        {
          "name": "stdout",
          "output_type": "stream",
          "text": [
            "Теоретические ошибки методов:\n",
            "Метод трапеций для F(x): 5.000000000000001e-07\n",
            "Метод трапеций для F1(x): 1.6666666666666668e-07\n",
            "Метод трапеций для F2(x): 0 (т.к. f''(x) = 0)\n",
            "Метод Симпсона для всех функций: 0 (т.к. f''''(x) = 0)\n"
          ]
        }
      ],
      "source": [
        "error_trap_F = (b - a)**3 / (12 * n**2) * 6\n",
        "error_trap_F1 = (b - a)**3 / (12 * n**2) * 2\n",
        "\n",
        "print(\"Теоретические ошибки методов:\")\n",
        "print(f\"Метод трапеций для F(x): {error_trap_F}\")\n",
        "print(f\"Метод трапеций для F1(x): {error_trap_F1}\")\n",
        "print(f\"Метод трапеций для F2(x): 0 (т.к. f''(x) = 0)\")\n",
        "print(\"Метод Симпсона для всех функций: 0 (т.к. f''''(x) = 0)\")"
      ]
    },
    {
      "cell_type": "code",
      "execution_count": null,
      "id": "1eebebe8-541c-4ce2-a975-50be47aa666d",
      "metadata": {
        "id": "1eebebe8-541c-4ce2-a975-50be47aa666d",
        "outputId": "665abe68-ed7d-423e-f503-24c6e3b6f526"
      },
      "outputs": [
        {
          "data": {
            "image/png": "[encoded data removed]",
            "text/plain": [
              "<Figure size 640x480 with 1 Axes>"
            ]
          },
          "metadata": {},
          "output_type": "display_data"
        }
      ],
      "source": [
        "#Нахождение максимума второй производной\n",
        "x = np.linspace(0, 1, 1000)\n",
        "f = abs(2*(3*x**2 - 1)/(x**6 + 3*x**4 + 3*x**2 + 1))\n",
        "plt.grid()\n",
        "plt.plot(x, f)\n",
        "plt.show()"
      ]
    }
  ],
  "metadata": {
    "kernelspec": {
      "display_name": "Python 3 (ipykernel)",
      "language": "python",
      "name": "python3"
    },
    "language_info": {
      "codemirror_mode": {
        "name": "ipython",
        "version": 3
      },
      "file_extension": ".py",
      "mimetype": "text/x-python",
      "name": "python",
      "nbconvert_exporter": "python",
      "pygments_lexer": "ipython3",
      "version": "3.13.2"
    },
    "colab": {
      "provenance": []
    }
  },
  "nbformat": 4,
  "nbformat_minor": 5
}